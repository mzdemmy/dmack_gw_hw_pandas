{
 "cells": [
  {
   "cell_type": "markdown",
   "metadata": {},
   "source": [
    "# Good Reads Summary\n",
    "\n",
    "#### The objective of this assignment is for you to explain what is happening in each cell in clear, understandable language. \n",
    "\n",
    "#### _There is no need to code._ The code is there for you, and it already runs. Your task is only to explain what each line in each cell does.\n",
    "\n",
    "#### The placeholder cells should describe what happens in the cell below it."
   ]
  },
  {
   "cell_type": "markdown",
   "metadata": {},
   "source": [
    "**Example**: The cell below imports `pandas` as a dependency because `pandas` functions will be used throughout the program, such as the Pandas `DataFrame` as well as the `read_csv` function."
   ]
  },
  {
   "cell_type": "code",
   "execution_count": null,
   "metadata": {},
   "outputs": [],
   "source": [
    "import pandas as pd"
   ]
  },
  {
   "cell_type": "markdown",
   "metadata": {},
   "source": [
    "The cell below has 3 commands: (1) loads in the input or source file by directing the path of the file (where it is located) and then (2) reads in the file into a DataFrame. In this case, the source file, books_clean.csv is located in the Resources subdirectory and is read into pandas using a uniformed transformation form which is an encoding form that maps a code point to a code unit sequence.  The last command displays the DataFrame content using a .head() which limits the display to the first few rows."
   ]
  },
  {
   "cell_type": "code",
   "execution_count": null,
   "metadata": {},
   "outputs": [],
   "source": [
    "goodreads_path = \"Resources/books_clean.csv\"\n",
    "\n",
    "goodreads_df = pd.read_csv(goodreads_path, encoding=\"utf-8\")\n",
    "goodreads_df.head()"
   ]
  },
  {
   "cell_type": "markdown",
   "metadata": {},
   "source": [
    "The cell below defines several variables that hold calculated values.  Author_count holds the number of unique authors by computing the length of each element (“Authors”) in the series.  The .min and .max functions are used to return the minimum and maximum of the values in the publication year column. \n",
    "A new “total_review” DataFrame is created to store “total_reviews” value sum calculated by indexing through every row for column 4.  The sum through axis=1 directs that the output will be a single column with the same number of rows. \n",
    "Lastly, a sum of the new DataFrame total review column returns the total sum or reviews."
   ]
  },
  {
   "cell_type": "code",
   "execution_count": null,
   "metadata": {},
   "outputs": [],
   "source": [
    "author_count = len(goodreads_df[\"Authors\"].unique())\n",
    "\n",
    "earliest_year = goodreads_df[\"Publication Year\"].min()\n",
    "latest_year = goodreads_df[\"Publication Year\"].max()\n",
    "\n",
    "goodreads_df['Total Reviews'] = goodreads_df.iloc[:, 4:].sum(axis=1)\n",
    "total_reviews = sum(goodreads_df['Total Reviews'])"
   ]
  },
  {
   "cell_type": "markdown",
   "metadata": {},
   "source": [
    "The cell below creates a DataFrame, a dictionary-like container for Series objects with a tabular data structure with labeled axes (rows and columns). Column headers are identified by “ ” and row values to the right side of the colon. Values enclosed in brackets (i.e. “author_count”) indicate the value is defined as a list index.\n",
    "\n",
    "Lastly the cell displays the DataFramee (summary_table)."
   ]
  },
  {
   "cell_type": "code",
   "execution_count": null,
   "metadata": {},
   "outputs": [],
   "source": [
    "summary_table = pd.DataFrame({\"Total Unique Authors\": [author_count],\n",
    "                              \"Earliest Year\": earliest_year,\n",
    "                              \"Latest Year\": latest_year,\n",
    "                              \"Total Reviews\": total_reviews})\n",
    "summary_table"
   ]
  },
  {
   "cell_type": "code",
   "execution_count": null,
   "metadata": {},
   "outputs": [],
   "source": []
  }
 ],
 "metadata": {
  "kernelspec": {
   "display_name": "Python 3",
   "language": "python",
   "name": "python3"
  },
  "language_info": {
   "codemirror_mode": {
    "name": "ipython",
    "version": 3
   },
   "file_extension": ".py",
   "mimetype": "text/x-python",
   "name": "python",
   "nbconvert_exporter": "python",
   "pygments_lexer": "ipython3",
   "version": "3.7.3"
  }
 },
 "nbformat": 4,
 "nbformat_minor": 2
}
